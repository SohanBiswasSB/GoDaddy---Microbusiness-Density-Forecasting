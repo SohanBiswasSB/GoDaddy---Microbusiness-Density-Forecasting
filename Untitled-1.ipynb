{
 "cells": [
  {
   "cell_type": "code",
   "execution_count": null,
   "metadata": {},
   "outputs": [],
   "source": [
    "import pandas as pd\n",
    "import numpy as np\n",
    "import gc\n",
    "import xgboost as xgb\n",
    "import tqdm\n",
    "import matplotlib.pyplot as plt\n",
    "import seaborn as sns"
   ]
  },
  {
   "cell_type": "code",
   "execution_count": null,
   "metadata": {},
   "outputs": [],
   "source": [
    "pd.set_option('display.max_rows',500)\n",
    "pd.set_option('display.max_columns',500)\n",
    "default_color=sns.color_palette()[0]"
   ]
  },
  {
   "cell_type": "code",
   "execution_count": null,
   "metadata": {},
   "outputs": [],
   "source": [
    "from sklearn.cluster import KMeans\n",
    "from sklearn.model_selection import GroupKFold\n",
    "from sklearn import metrics\n",
    "from sklearn.model_selection import TimeSeriesSplit\n",
    "from sklearn.model_selection import KFold"
   ]
  },
  {
   "cell_type": "code",
   "execution_count": null,
   "metadata": {},
   "outputs": [],
   "source": [
    "from catboost import CatBoostRegressor\n",
    "from lightgbm import LGBMRegressor\n",
    "from xgboost import XGBRegressor"
   ]
  },
  {
   "cell_type": "code",
   "execution_count": null,
   "metadata": {},
   "outputs": [],
   "source": [
    "def smape(y_true,y_pred):\n",
    "    numerator=np.abs(y_true-y_pred)\n",
    "    denominator=(np.abs(y_true)+np.abs(y_pred))/2\n",
    "    return 100*np.mean(numerator/denominator)"
   ]
  },
  {
   "cell_type": "code",
   "execution_count": null,
   "metadata": {},
   "outputs": [],
   "source": [
    "train=pd.read_csv('train.csv',parse_dates=['first_day_of_month'])\n",
    "test=pd.read_csv('test.csv', parse_dates=['first_day_of_month'])\n",
    "cs_data=pd.read_csv('census_starter.csv')\n",
    "sub=pd.read_csv('sample_submission.csv')"
   ]
  },
  {
   "cell_type": "code",
   "execution_count": null,
   "metadata": {},
   "outputs": [],
   "source": [
    "print(train.shape)\n",
    "print(test.shape)\n",
    "print(sub.shape)\n",
    "print(cs_data.shape)"
   ]
  },
  {
   "cell_type": "code",
   "execution_count": null,
   "metadata": {},
   "outputs": [],
   "source": [
    "#print('The total shape of the train data is:{} '.format((train.shape)))\n",
    "#print('The total shape of the test data is: {}'.format((test.shape)))\n",
    "#print('The total shape of the census data is: {}'.format(cs_data))\n"
   ]
  },
  {
   "cell_type": "code",
   "execution_count": null,
   "metadata": {},
   "outputs": [],
   "source": [
    "train.head()"
   ]
  },
  {
   "cell_type": "code",
   "execution_count": null,
   "metadata": {},
   "outputs": [],
   "source": [
    "test.head()"
   ]
  },
  {
   "cell_type": "code",
   "execution_count": null,
   "metadata": {},
   "outputs": [],
   "source": [
    "cs_data.head()"
   ]
  },
  {
   "cell_type": "code",
   "execution_count": null,
   "metadata": {},
   "outputs": [],
   "source": [
    "train.info()"
   ]
  },
  {
   "cell_type": "code",
   "execution_count": null,
   "metadata": {},
   "outputs": [],
   "source": [
    "test.info()"
   ]
  },
  {
   "cell_type": "code",
   "execution_count": null,
   "metadata": {},
   "outputs": [],
   "source": [
    "cs_data.info()"
   ]
  },
  {
   "cell_type": "code",
   "execution_count": null,
   "metadata": {},
   "outputs": [],
   "source": [
    "plt.title('The target variable distribution')\n",
    "train['microbusiness_density'].hist(bins=20)"
   ]
  },
  {
   "cell_type": "code",
   "execution_count": null,
   "metadata": {},
   "outputs": [],
   "source": [
    "plt.figure(figsize=[20,10])\n",
    "plt.subplot(1,2,1)\n",
    "train['microbusiness_density'].hist(bins=20)\n",
    "plt.subplot(1,2,2)\n",
    "(np.log1p(train['microbusiness_density']).hist(bins=20))"
   ]
  },
  {
   "cell_type": "code",
   "execution_count": null,
   "metadata": {},
   "outputs": [],
   "source": [
    "train['microbusiness_density'].describe()"
   ]
  },
  {
   "cell_type": "code",
   "execution_count": null,
   "metadata": {},
   "outputs": [],
   "source": [
    "tar_feat=train[['row_id','microbusiness_density']]\n",
    "train['first_day_of_month'].describe(datetime_is_numeric=True)"
   ]
  },
  {
   "cell_type": "code",
   "execution_count": null,
   "metadata": {},
   "outputs": [],
   "source": [
    "test['first_day_of_month'].describe(datetime_is_numeric=True)\n",
    "train.plot('first_day_of_month','microbusiness_density')"
   ]
  },
  {
   "cell_type": "code",
   "execution_count": null,
   "metadata": {},
   "outputs": [],
   "source": [
    "print('The total number of cfips train data is: {}'.format(train['cfips'].nunique()))\n",
    "print('The total number of cfips test data is: {}'.format(test['cfips'].nunique()))\n",
    "print('The total number of cfips census data is: {}'.format(cs_data['cfips'].nunique()))"
   ]
  },
  {
   "cell_type": "code",
   "execution_count": null,
   "metadata": {},
   "outputs": [],
   "source": [
    "test['cfips'].isin(train['cfips']).value_counts()"
   ]
  },
  {
   "cell_type": "code",
   "execution_count": null,
   "metadata": {},
   "outputs": [],
   "source": [
    "cs_data['cfips'].isin(train['cfips']).value_counts()"
   ]
  },
  {
   "cell_type": "code",
   "execution_count": null,
   "metadata": {},
   "outputs": [],
   "source": [
    "train.head(10)"
   ]
  },
  {
   "cell_type": "code",
   "execution_count": null,
   "metadata": {},
   "outputs": [],
   "source": [
    "def make_feature(df):\n",
    "    feature=pd.DataFrame()\n",
    "    feature[\"county_code\"]=df['cfips']//100\n",
    "    feature[\"state_code\"]=df['cfips']%100\n",
    "    feature['year']=df['first_day_of_month'].dt.year\n",
    "    feature['month']=df['first_day_of_month'].dt.month\n",
    "    feature['day']=df['first_day_of_month'].dt.dayofweek\n",
    "    return feature"
   ]
  },
  {
   "cell_type": "code",
   "execution_count": null,
   "metadata": {},
   "outputs": [],
   "source": [
    "train_fe=make_feature(train)\n",
    "test_fe=make_feature(test)\n"
   ]
  },
  {
   "cell_type": "code",
   "execution_count": null,
   "metadata": {},
   "outputs": [],
   "source": [
    "print(test_fe.shape)\n",
    "print(train_fe.shape)"
   ]
  },
  {
   "cell_type": "code",
   "execution_count": null,
   "metadata": {},
   "outputs": [],
   "source": [
    "X=train_fe\n",
    "Y=np.log1p(train['microbusiness_density'])"
   ]
  },
  {
   "cell_type": "code",
   "execution_count": null,
   "metadata": {},
   "outputs": [],
   "source": [
    "errcb=[]\n",
    "Y_pred_totcb=[]\n",
    "fold=KFold(n_splits=5,shuffle=True,random_state=1)\n",
    "i=1\n",
    "for train_index,test_index in fold.split(X):\n",
    "    X_train,X_test=X.iloc[train_index],X.iloc[test_index]\n",
    "    Y_train,Y_test=Y.iloc[train_index],Y.iloc[test_index]\n",
    "    m=CatBoostRegressor(eval_metric='SMAPE')\n",
    "    m.fit(X_train,Y_train,eval_set=[(X_train,Y_train),(X_test,Y_test)],verbose=100,early_stopping_rounds=100)\n",
    "    preds=m.predict(X_test)\n",
    "    print(\"err:\",smape(np.expm1(Y_test),np.expm1(preds)))\n",
    "    errcb.append(smape(np.expm1(Y_test),np.expm1(preds)))\n",
    "    p=m.predict(test_fe)\n",
    "    Y_pred_totcb.append(p)"
   ]
  },
  {
   "cell_type": "code",
   "execution_count": null,
   "metadata": {},
   "outputs": [],
   "source": [
    "np.mean((errcb))"
   ]
  },
  {
   "cell_type": "code",
   "execution_count": null,
   "metadata": {},
   "outputs": [],
   "source": [
    "params={\n",
    "    \"metric\":\"mse\",\n",
    "    \"learning_rate\":0.2,\n",
    "    \"sub_feature\":1.0,\n",
    "    \"bagging_freq\":1,\n",
    "    \"lambda_11\":0.6,\n",
    "    'verbosity':1,\n",
    "    'num_iterations':3000,\n",
    "}"
   ]
  },
  {
   "cell_type": "code",
   "execution_count": null,
   "metadata": {},
   "outputs": [],
   "source": [
    "errlgb=[]\n",
    "Y_pred_totlgb=[]\n",
    "fold=KFold(n_splits=5,shuffle=True,random_state=101)\n",
    "i=1\n",
    "for train_index,test_index in fold.split(X):\n",
    "    X_train,X_test=X.iloc[train_index],X.iloc[test_index]\n",
    "    Y_train,Y_test=Y.iloc[train_index],Y.iloc[test_index]\n",
    "    m=LGBMRegressor(**params)\n",
    "    m.fit(X_train,Y_train,eval_set=[(X_train,Y_train),(X_test,Y_test)],verbose=100,early_stopping_rounds=100)\n",
    "    preds=m.predict(X_test)\n",
    "    print(\"err:\",smape(np.expm1(Y_test),np.expm1(preds)))\n",
    "    errlgb.append(smape(np.expm1(Y_test),np.expm1(preds)))\n",
    "    p=m.predict(test_fe)\n",
    "    Y_pred_totlgb.append(p)"
   ]
  },
  {
   "cell_type": "code",
   "execution_count": null,
   "metadata": {},
   "outputs": [],
   "source": [
    "np.mean((errlgb))"
   ]
  },
  {
   "cell_type": "code",
   "execution_count": null,
   "metadata": {},
   "outputs": [],
   "source": [
    "fea_imp=pd.DataFrame({'imp':m.feature_importances_,'col':X.columns})\n",
    "fea_imp=fea_imp.sort_values(['imp','col'],ascending=False).iloc[-30:]"
   ]
  }
 ],
 "metadata": {
  "kernelspec": {
   "display_name": "Python 3",
   "language": "python",
   "name": "python3"
  },
  "language_info": {
   "codemirror_mode": {
    "name": "ipython",
    "version": 3
   },
   "file_extension": ".py",
   "mimetype": "text/x-python",
   "name": "python",
   "nbconvert_exporter": "python",
   "pygments_lexer": "ipython3",
   "version": "3.9.13 (tags/v3.9.13:6de2ca5, May 17 2022, 16:36:42) [MSC v.1929 64 bit (AMD64)]"
  },
  "orig_nbformat": 4,
  "vscode": {
   "interpreter": {
    "hash": "f1b98cc6997a8dbfb7adba046f6db9f76cbb9ccbb943d3013cc78c224533c363"
   }
  }
 },
 "nbformat": 4,
 "nbformat_minor": 2
}
